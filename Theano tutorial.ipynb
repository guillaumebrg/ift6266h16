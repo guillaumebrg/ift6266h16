{
 "cells": [
  {
   "cell_type": "markdown",
   "metadata": {},
   "source": [
    "# THEANO tutorial"
   ]
  },
  {
   "cell_type": "markdown",
   "metadata": {},
   "source": [
    "Tutorial available here : http://deeplearning.net/software/theano/tutorial/"
   ]
  },
  {
   "cell_type": "markdown",
   "metadata": {},
   "source": [
    "## Baby Steps - Algebra"
   ]
  },
  {
   "cell_type": "code",
   "execution_count": 1,
   "metadata": {
    "collapsed": true
   },
   "outputs": [],
   "source": [
    "import theano.tensor as T\n",
    "from theano import function"
   ]
  },
  {
   "cell_type": "markdown",
   "metadata": {},
   "source": [
    "### Simple Algebra"
   ]
  },
  {
   "cell_type": "code",
   "execution_count": 5,
   "metadata": {
    "collapsed": false,
    "scrolled": true
   },
   "outputs": [
    {
     "name": "stdout",
     "output_type": "stream",
     "text": [
      "[ 4.  6.]\n"
     ]
    }
   ],
   "source": [
    "# 1. Instantiate symbolic variables\n",
    "x = T.vector(name=\"x\")\n",
    "y = T.vector(name=\"y\")\n",
    "# 2. Build a computation graph\n",
    "z = x + y\n",
    "# 3. Compile a callable function\n",
    "f = function(inputs=[x, y], outputs=z)\n",
    "# 4. Call the function using numerical inputs\n",
    "print f([1, 2], [3, 4])"
   ]
  },
  {
   "cell_type": "markdown",
   "metadata": {},
   "source": [
    "#### Type"
   ]
  },
  {
   "cell_type": "markdown",
   "metadata": {},
   "source": [
    "x, y, and z are **TensorVariables** : not persistent across function calls."
   ]
  },
  {
   "cell_type": "code",
   "execution_count": 9,
   "metadata": {
    "collapsed": false
   },
   "outputs": [
    {
     "data": {
      "text/plain": [
       "theano.tensor.var.TensorVariable"
      ]
     },
     "execution_count": 9,
     "metadata": {},
     "output_type": "execute_result"
    }
   ],
   "source": [
    "type(z)"
   ]
  },
  {
   "cell_type": "markdown",
   "metadata": {},
   "source": [
    "Symbolic variables have to be **typed** (vector here). If you give a scalar to the function, it won't work :"
   ]
  },
  {
   "cell_type": "code",
   "execution_count": 40,
   "metadata": {
    "collapsed": false
   },
   "outputs": [
    {
     "name": "stdout",
     "output_type": "stream",
     "text": [
      "Error\n"
     ]
    }
   ],
   "source": [
    "try:\n",
    "    f(1.0,3.0)\n",
    "except:\n",
    "    print \"Error\""
   ]
  },
  {
   "cell_type": "markdown",
   "metadata": {},
   "source": [
    "See http://deeplearning.net/software/theano/library/tensor/basic.html for more details about types"
   ]
  },
  {
   "cell_type": "markdown",
   "metadata": {},
   "source": [
    "#### Pretty print"
   ]
  },
  {
   "cell_type": "code",
   "execution_count": 11,
   "metadata": {
    "collapsed": false
   },
   "outputs": [
    {
     "data": {
      "text/plain": [
       "'(x + y)'"
      ]
     },
     "execution_count": 11,
     "metadata": {},
     "output_type": "execute_result"
    }
   ],
   "source": [
    "from theano import pp\n",
    "pp(z)"
   ]
  },
  {
   "cell_type": "markdown",
   "metadata": {},
   "source": [
    "#### Other function"
   ]
  },
  {
   "cell_type": "code",
   "execution_count": 16,
   "metadata": {
    "collapsed": true
   },
   "outputs": [],
   "source": [
    "z = 2*x + 3*(y**2) + 2\n",
    "g = function(inputs=[x, y], outputs=z)"
   ]
  },
  {
   "cell_type": "code",
   "execution_count": 15,
   "metadata": {
    "collapsed": false
   },
   "outputs": [
    {
     "data": {
      "text/plain": [
       "'(((TensorConstant{2} * x) + (TensorConstant{3} * (y ** TensorConstant{2}))) + TensorConstant{2})'"
      ]
     },
     "execution_count": 15,
     "metadata": {},
     "output_type": "execute_result"
    }
   ],
   "source": [
    "pp(z)"
   ]
  },
  {
   "cell_type": "markdown",
   "metadata": {},
   "source": [
    "TensorConstant can't change.\n",
    "\n",
    "Even if the graph has changed, if you don't compile f again, then f continues to output x + y"
   ]
  },
  {
   "cell_type": "code",
   "execution_count": 14,
   "metadata": {
    "collapsed": false
   },
   "outputs": [
    {
     "name": "stdout",
     "output_type": "stream",
     "text": [
      "[ 4.  6.]\n",
      "[ 31.  54.]\n"
     ]
    }
   ],
   "source": [
    "print f([1, 2], [3, 4])\n",
    "print g([1, 2], [3, 4])"
   ]
  },
  {
   "cell_type": "code",
   "execution_count": 35,
   "metadata": {
    "collapsed": false
   },
   "outputs": [],
   "source": [
    "o = 3*z + 1\n",
    "h = function(inputs=[x, y], outputs=o)"
   ]
  },
  {
   "cell_type": "markdown",
   "metadata": {},
   "source": [
    "#### Other function"
   ]
  },
  {
   "cell_type": "code",
   "execution_count": 37,
   "metadata": {
    "collapsed": false,
    "scrolled": true
   },
   "outputs": [
    {
     "name": "stdout",
     "output_type": "stream",
     "text": [
      "((TensorConstant{3} * (((TensorConstant{2} * x) + (TensorConstant{3} * (y ** TensorConstant{2}))) + TensorConstant{2})) + TensorConstant{1})\n",
      "[ 94.]\n"
     ]
    }
   ],
   "source": [
    "print pp(o)\n",
    "print h([1.0],[3.0])"
   ]
  },
  {
   "cell_type": "markdown",
   "metadata": {},
   "source": [
    "## More Examples"
   ]
  },
  {
   "cell_type": "markdown",
   "metadata": {},
   "source": [
    "### Logistic Regression"
   ]
  },
  {
   "cell_type": "code",
   "execution_count": 42,
   "metadata": {
    "collapsed": false
   },
   "outputs": [
    {
     "data": {
      "text/plain": [
       "array([[ 0.5       ,  0.7310586 ],\n",
       "       [ 0.26894143,  0.11920292]], dtype=float32)"
      ]
     },
     "execution_count": 42,
     "metadata": {},
     "output_type": "execute_result"
    }
   ],
   "source": [
    "x = T.matrix('x')\n",
    "s = 1 / (1 + T.exp(-x))\n",
    "logistic = function([x], s)\n",
    "logistic([[0, 1], [-1, -2]])"
   ]
  },
  {
   "cell_type": "markdown",
   "metadata": {},
   "source": [
    "### Setting a Default Value for an Argument"
   ]
  },
  {
   "cell_type": "code",
   "execution_count": 44,
   "metadata": {
    "collapsed": false
   },
   "outputs": [
    {
     "name": "stdout",
     "output_type": "stream",
     "text": [
      "34.0\n"
     ]
    }
   ],
   "source": [
    "from theano import Param\n",
    "x, y = T.dscalars('x', 'y')\n",
    "z = x + y\n",
    "f = function([x, Param(y, default=1)], z)\n",
    "\n",
    "print f(33)"
   ]
  },
  {
   "cell_type": "markdown",
   "metadata": {},
   "source": [
    "### Using Shared Variables"
   ]
  },
  {
   "cell_type": "code",
   "execution_count": 45,
   "metadata": {
    "collapsed": true
   },
   "outputs": [],
   "source": [
    "from theano import shared\n",
    "\n",
    "state = shared(0)\n",
    "inc = T.iscalar('inc')\n",
    "accumulator = function([inc], state, updates=[(state, state+inc)])"
   ]
  },
  {
   "cell_type": "markdown",
   "metadata": {},
   "source": [
    "**Shared Variables** are hybrid symbolic and non-symbolic variables whose value may be shared between multiple functions. Shared variables can be used in symbolic expressions, but they always have an internal value that is kept in memory.\n",
    "\n",
    "The other new thing in this code is the **updates parameter** of function. updates must be supplied with a list of pairs of the form (shared-variable, new expression)."
   ]
  },
  {
   "cell_type": "code",
   "execution_count": 50,
   "metadata": {
    "collapsed": false
   },
   "outputs": [
    {
     "name": "stdout",
     "output_type": "stream",
     "text": [
      "0\n",
      "1\n",
      "301\n"
     ]
    }
   ],
   "source": [
    "print state.get_value()\n",
    "accumulator(1)\n",
    "print state.get_value()\n",
    "accumulator(300)\n",
    "print state.get_value()"
   ]
  },
  {
   "cell_type": "markdown",
   "metadata": {},
   "source": [
    "The function returns \"state\" and increments after :"
   ]
  },
  {
   "cell_type": "code",
   "execution_count": 51,
   "metadata": {
    "collapsed": false
   },
   "outputs": [
    {
     "data": {
      "text/plain": [
       "array(301)"
      ]
     },
     "execution_count": 51,
     "metadata": {},
     "output_type": "execute_result"
    }
   ],
   "source": [
    "accumulator(-5)"
   ]
  },
  {
   "cell_type": "markdown",
   "metadata": {},
   "source": [
    "Reset :"
   ]
  },
  {
   "cell_type": "code",
   "execution_count": 53,
   "metadata": {
    "collapsed": true
   },
   "outputs": [],
   "source": [
    "state.set_value(0)"
   ]
  },
  {
   "cell_type": "markdown",
   "metadata": {},
   "source": [
    "**givens** parameter allow you to skip the internal value of a shared value if you do not want to use it :"
   ]
  },
  {
   "cell_type": "code",
   "execution_count": 55,
   "metadata": {
    "collapsed": false
   },
   "outputs": [
    {
     "data": {
      "text/plain": [
       "array(0)"
      ]
     },
     "execution_count": 55,
     "metadata": {},
     "output_type": "execute_result"
    }
   ],
   "source": [
    "fn_of_state = state * 2 + inc\n",
    "# The type of foo must match the shared variable we are replacing\n",
    "# with the ``givens``\n",
    "foo = T.scalar(dtype=state.dtype)\n",
    "skip_shared = function([inc, foo], fn_of_state, givens=[(state, foo)])"
   ]
  },
  {
   "cell_type": "code",
   "execution_count": 56,
   "metadata": {
    "collapsed": false
   },
   "outputs": [
    {
     "name": "stdout",
     "output_type": "stream",
     "text": [
      "7\n",
      "0\n"
     ]
    }
   ],
   "source": [
    "print skip_shared(1, 3)  # we're using 3 for the state, not state.value\n",
    "print state.get_value()  # old state still there, but we didn't use it"
   ]
  },
  {
   "cell_type": "markdown",
   "metadata": {},
   "source": [
    "### Random Numbers"
   ]
  },
  {
   "cell_type": "code",
   "execution_count": 78,
   "metadata": {
    "collapsed": true
   },
   "outputs": [],
   "source": [
    "from theano.tensor.shared_randomstreams import RandomStreams\n",
    "\n",
    "srng = RandomStreams(seed=234)\n",
    "rv_u = srng.uniform((2,2))\n",
    "rv_n = srng.normal((2,2))\n",
    "f = function([], rv_u)\n",
    "g = function([], rv_n, no_default_updates=True)    #Not updating rv_n.rng\n",
    "nearly_zeros = function([], rv_u + rv_u - 2 * rv_u)"
   ]
  },
  {
   "cell_type": "code",
   "execution_count": 83,
   "metadata": {
    "collapsed": false
   },
   "outputs": [
    {
     "name": "stdout",
     "output_type": "stream",
     "text": [
      "[[ 0.12672381  0.97091597]\n",
      " [ 0.13989098  0.88754827]]\n",
      "With update :\n",
      "[[ 0.31971416  0.47584376]\n",
      " [ 0.24129163  0.42046082]]\n"
     ]
    }
   ],
   "source": [
    "print f()\n",
    "print \"With update :\"\n",
    "print f()"
   ]
  },
  {
   "cell_type": "code",
   "execution_count": 82,
   "metadata": {
    "collapsed": false
   },
   "outputs": [
    {
     "name": "stdout",
     "output_type": "stream",
     "text": [
      "[[ 0.37328446 -0.65746671]\n",
      " [-0.36302373 -0.97484624]]\n",
      "No update :\n",
      "[[ 0.37328446 -0.65746671]\n",
      " [-0.36302373 -0.97484624]]\n"
     ]
    }
   ],
   "source": [
    "print g()\n",
    "print \"No update :\"\n",
    "print g()"
   ]
  },
  {
   "cell_type": "code",
   "execution_count": 85,
   "metadata": {
    "collapsed": false
   },
   "outputs": [
    {
     "name": "stdout",
     "output_type": "stream",
     "text": [
      "Random variables are drawn at most once during any single function execution :\n"
     ]
    },
    {
     "data": {
      "text/plain": [
       "array([[ 0.,  0.],\n",
       "       [ 0.,  0.]], dtype=float32)"
      ]
     },
     "execution_count": 85,
     "metadata": {},
     "output_type": "execute_result"
    }
   ],
   "source": [
    "print \"Random variables are drawn at most once during any single function execution :\"\n",
    "nearly_zeros()"
   ]
  },
  {
   "cell_type": "markdown",
   "metadata": {},
   "source": [
    "#### Seeding only one variable :"
   ]
  },
  {
   "cell_type": "code",
   "execution_count": 89,
   "metadata": {
    "collapsed": true
   },
   "outputs": [],
   "source": [
    "rng_val = rv_u.rng.get_value(borrow=True)   # Get the rng for rv_u\n",
    "rng_val.seed(89234)                         # seeds the generator\n",
    "rv_u.rng.set_value(rng_val, borrow=True)    # Assign back seeded rng"
   ]
  },
  {
   "cell_type": "markdown",
   "metadata": {},
   "source": [
    "#### Seeding all variables :"
   ]
  },
  {
   "cell_type": "code",
   "execution_count": 90,
   "metadata": {
    "collapsed": true
   },
   "outputs": [],
   "source": [
    "srng.seed(902340)  # seeds rv_u and rv_n with different seeds each"
   ]
  },
  {
   "cell_type": "markdown",
   "metadata": {},
   "source": [
    "### Gradient Computation"
   ]
  },
  {
   "cell_type": "code",
   "execution_count": 92,
   "metadata": {
    "collapsed": false
   },
   "outputs": [
    {
     "name": "stdout",
     "output_type": "stream",
     "text": [
      "[ 2.  4.]\n"
     ]
    }
   ],
   "source": [
    "# 1. Instantiate symbolic variables\n",
    "x = T.vector(name=\"x\")\n",
    "# 2. Build a computation graph\n",
    "z = (x ** 2).sum()\n",
    "d_z_d_x = T.grad(z, x)\n",
    "# 3. Compile a callable function\n",
    "f = function(inputs=[x], outputs=d_z_d_x)\n",
    "# 4. Call the function using numerical inputs\n",
    "print f([1, 2])"
   ]
  },
  {
   "cell_type": "markdown",
   "metadata": {},
   "source": [
    "## Realistic examples : "
   ]
  },
  {
   "cell_type": "code",
   "execution_count": 102,
   "metadata": {
    "collapsed": true
   },
   "outputs": [],
   "source": [
    "import matplotlib.pyplot as plt\n",
    "%matplotlib inline"
   ]
  },
  {
   "cell_type": "markdown",
   "metadata": {},
   "source": [
    "### Linear Regression"
   ]
  },
  {
   "cell_type": "markdown",
   "metadata": {},
   "source": [
    "#### Generate data"
   ]
  },
  {
   "cell_type": "code",
   "execution_count": 128,
   "metadata": {
    "collapsed": false
   },
   "outputs": [
    {
     "data": {
      "image/png": "[encoded data removed]",
      "text/plain": [
       "<matplotlib.figure.Figure at 0x16cf8780>"
      ]
     },
     "metadata": {},
     "output_type": "display_data"
    }
   ],
   "source": [
    "inputs = 2*np.random.randn(1000)\n",
    "sigma = 2\n",
    "targets = -4*inputs + 2 + sigma*np.random.randn(1000)\n",
    "\n",
    "plt.figure()\n",
    "plt.scatter(inputs,targets, label=\"training data\")\n",
    "plt.legend()\n",
    "plt.show()"
   ]
  },
  {
   "cell_type": "markdown",
   "metadata": {},
   "source": [
    "#### Theano model"
   ]
  },
  {
   "cell_type": "code",
   "execution_count": 118,
   "metadata": {
    "collapsed": false
   },
   "outputs": [],
   "source": [
    "x = T.scalar(name=\"x\") # inputs\n",
    "t = T.scalar(name=\"t\") # targets\n",
    "\n",
    "a = shared(-1.0, name=\"a\") # slope\n",
    "b = shared(0.0, name=\"b\")  # y-intercept\n",
    "y = a * x + b  # model\n",
    "mse = (y - t) ** 2  # cost\n",
    "grad_a, grad_b = T.grad(mse, [a, b])  # gradients\n",
    "\n",
    "train = function(inputs=[x, t], outputs=mse, updates=((a, a - 0.01 * grad_a), (b, b - 0.01 * grad_b)))\n",
    "test = function([x],outputs=y)"
   ]
  },
  {
   "cell_type": "markdown",
   "metadata": {},
   "source": [
    "#### Training"
   ]
  },
  {
   "cell_type": "code",
   "execution_count": 129,
   "metadata": {
    "collapsed": false
   },
   "outputs": [],
   "source": [
    "for input_,target_ in zip(np.array(inputs, \"float32\"),np.array(targets,\"float32\")):\n",
    "    train(input_,target_)"
   ]
  },
  {
   "cell_type": "code",
   "execution_count": 130,
   "metadata": {
    "collapsed": false
   },
   "outputs": [
    {
     "name": "stdout",
     "output_type": "stream",
     "text": [
      "-3.74315401806\n",
      "2.09352542446\n"
     ]
    }
   ],
   "source": [
    "print a.get_value()\n",
    "print b.get_value()"
   ]
  },
  {
   "cell_type": "code",
   "execution_count": 131,
   "metadata": {
    "collapsed": false
   },
   "outputs": [
    {
     "data": {
      "image/png": "[encoded data removed]",
      "text/plain": [
       "<matplotlib.figure.Figure at 0x16fbceb8>"
      ]
     },
     "metadata": {},
     "output_type": "display_data"
    }
   ],
   "source": [
    "predictions = [test(i) for i in np.arange(-7,7,1)]\n",
    "\n",
    "plt.figure()\n",
    "plt.scatter(inputs,targets, label=\"training data\")\n",
    "plt.plot(np.arange(-7,7,1), predictions, c=\"r\", label=\"predictions\")\n",
    "plt.legend()\n",
    "plt.show()"
   ]
  },
  {
   "cell_type": "markdown",
   "metadata": {},
   "source": [
    "### Logistic Regression"
   ]
  },
  {
   "cell_type": "markdown",
   "metadata": {},
   "source": [
    "#### Generate data"
   ]
  },
  {
   "cell_type": "code",
   "execution_count": 162,
   "metadata": {
    "collapsed": false
   },
   "outputs": [
    {
     "data": {
      "image/png": "[encoded data removed]",
      "text/plain": [
       "<matplotlib.figure.Figure at 0x173af5c0>"
      ]
     },
     "metadata": {},
     "output_type": "display_data"
    }
   ],
   "source": [
    "class0 = np.array([np.random.randn(500),np.random.randn(500)], \"float32\")\n",
    "class1 = np.array([np.random.randn(500)+2.5,np.random.randn(500)+2.5], \"float32\")\n",
    "\n",
    "plt.figure()\n",
    "plt.scatter(class0[0],class0[1], label=\"class0\")\n",
    "plt.scatter(class1[0],class1[1], c=\"r\", label=\"class1\")\n",
    "plt.legend()\n",
    "plt.show()\n",
    "\n",
    "targets = np.zeros(1000)\n",
    "targets[500:1000] = 1.0\n",
    "targets = np.array(targets, \"float32\")\n",
    "\n",
    "trainset = np.concatenate([class0,class1], axis=1)"
   ]
  },
  {
   "cell_type": "markdown",
   "metadata": {},
   "source": [
    "#### Model"
   ]
  },
  {
   "cell_type": "code",
   "execution_count": 198,
   "metadata": {
    "collapsed": false
   },
   "outputs": [
    {
     "name": "stdout",
     "output_type": "stream",
     "text": [
      "Initial model:\n",
      "[ 0.70398086 -0.620114  ]\n",
      "0.0\n"
     ]
    }
   ],
   "source": [
    "# Declare Theano symbolic variables\n",
    "x = T.matrix(\"x\")\n",
    "y = T.vector(\"y\")\n",
    "w = shared(np.random.randn(2), name=\"w\")\n",
    "b = shared(0., name=\"b\")\n",
    "print(\"Initial model:\")\n",
    "print(w.get_value())\n",
    "print(b.get_value())\n",
    "\n",
    "# Construct Theano expression graph\n",
    "p_1 = 1 / (1 + T.exp(-T.dot(x, w) - b))   # Probability that target = 1\n",
    "prediction = p_1 > 0.5                    # The prediction thresholded\n",
    "xent = -y * T.log(p_1) - (1-y) * T.log(1-p_1) # Cross-entropy loss function\n",
    "cost = xent.mean() + 0.01 * (w ** 2).sum()# The cost to minimize\n",
    "gw, gb = T.grad(cost, [w, b])             # Compute the gradient of the cost\n",
    "                                          # (we shall return to this in a\n",
    "                                          # following section of this tutorial)\n",
    "\n",
    "# Compile\n",
    "train = function(\n",
    "          inputs=[x,y],\n",
    "          outputs=[prediction, xent],\n",
    "          updates=((w, w - 0.1 * gw), (b, b - 0.1 * gb)))\n",
    "predict = function(inputs=[x], outputs=prediction)"
   ]
  },
  {
   "cell_type": "markdown",
   "metadata": {},
   "source": [
    "#### Training on 800 first examples"
   ]
  },
  {
   "cell_type": "code",
   "execution_count": 199,
   "metadata": {
    "collapsed": false
   },
   "outputs": [
    {
     "name": "stdout",
     "output_type": "stream",
     "text": [
      "Testset score =  0.555\n"
     ]
    }
   ],
   "source": [
    "print \"Testset score = \", sum(predict(trainset[:,800:1000].T) == targets[800:1000])/200.0"
   ]
  },
  {
   "cell_type": "code",
   "execution_count": 200,
   "metadata": {
    "collapsed": false
   },
   "outputs": [],
   "source": [
    "index = np.arange(800)\n",
    "np.random.shuffle(index)\n",
    "\n",
    "for i in index:\n",
    "    train([trainset[:,i]],[targets[i]])"
   ]
  },
  {
   "cell_type": "code",
   "execution_count": 201,
   "metadata": {
    "collapsed": false
   },
   "outputs": [
    {
     "name": "stdout",
     "output_type": "stream",
     "text": [
      "Testset score =  0.945\n"
     ]
    }
   ],
   "source": [
    "print \"Testset score = \", sum(predict(trainset[:,800:1000].T) == targets[800:1000])/200.0"
   ]
  },
  {
   "cell_type": "code",
   "execution_count": null,
   "metadata": {
    "collapsed": true
   },
   "outputs": [],
   "source": []
  }
 ],
 "metadata": {
  "kernelspec": {
   "display_name": "Python 2",
   "language": "python",
   "name": "python2"
  },
  "language_info": {
   "codemirror_mode": {
    "name": "ipython",
    "version": 2
   },
   "file_extension": ".py",
   "mimetype": "text/x-python",
   "name": "python",
   "nbconvert_exporter": "python",
   "pygments_lexer": "ipython2",
   "version": "2.7.8"
  }
 },
 "nbformat": 4,
 "nbformat_minor": 0
}
